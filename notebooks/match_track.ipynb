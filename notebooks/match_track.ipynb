{
 "cells": [
  {
   "cell_type": "code",
   "execution_count": null,
   "metadata": {
    "collapsed": false
   },
   "outputs": [],
   "source": [
    "import json\n",
    "# facilitate imports from project root\n",
    "import sys\n",
    "sys.path.append(\"..\")"
   ]
  },
  {
   "cell_type": "code",
   "execution_count": null,
   "metadata": {
    "collapsed": false
   },
   "outputs": [],
   "source": [
    "from chase_rank.match import match_track\n",
    "from chase_rank.process import process_match"
   ]
  },
  {
   "cell_type": "code",
   "execution_count": null,
   "metadata": {
    "collapsed": true
   },
   "outputs": [],
   "source": [
    "from pathlib import Path\n",
    "\n",
    "import gpxpy\n",
    "import overpy\n",
    "\n",
    "import pandas as pd\n",
    "import geopandas as gpd\n",
    "from matplotlib import pyplot as plt\n",
    "from shapely.geometry import LineString, Point\n",
    "from routingpy import Valhalla"
   ]
  },
  {
   "cell_type": "code",
   "execution_count": null,
   "metadata": {
    "collapsed": false
   },
   "outputs": [],
   "source": [
    "DATA_PATH = Path(\"../data\")\n",
    "TEST_TRACK_PATH = Path(DATA_PATH, \"routes/test_track.gpx\")\n",
    "\n",
    "VALHALLA_CLIENT = Valhalla(base_url=\"http://127.0.0.1:8002\")\n",
    "OVERPASS_API = overpy.Overpass()"
   ]
  },
  {
   "cell_type": "markdown",
   "metadata": {
    "collapsed": false
   },
   "source": [
    "---\n",
    "# Datei Laden"
   ]
  },
  {
   "cell_type": "code",
   "execution_count": null,
   "metadata": {
    "collapsed": false
   },
   "outputs": [],
   "source": [
    "with open(TEST_TRACK_PATH) as file_pointer:\n",
    "    gpx_content = gpxpy.parse(file_pointer)\n",
    "\n",
    "gpx_data = []\n",
    "gpx_geometry = []\n",
    "for point in gpx_content.tracks[0].segments[0].points:\n",
    "    gpx_geometry.append(Point(point.longitude, point.latitude))\n",
    "    gpx_data.append({\n",
    "        # clear tzinfo until it can be handled for the match query\n",
    "        \"time\": point.time.replace(tzinfo=None),\n",
    "        \"elev\": point.elevation,\n",
    "        \"longitude\": point.longitude,\n",
    "        \"latitude\": point.latitude\n",
    "    })\n",
    "\n",
    "gpx_frame = gpd.GeoDataFrame(\n",
    "    gpx_data, geometry=gpx_geometry, crs=\"EPSG:4326\").to_crs(\"EPSG:3857\")\n",
    "# search for splits in the trace bigger than 1s and label consecutive sections\n",
    "gpx_frame[\"section\"] = (gpx_frame[\"time\"].diff() != pd.Timedelta(\"1 second\")).cumsum()"
   ]
  },
  {
   "cell_type": "code",
   "execution_count": null,
   "metadata": {},
   "outputs": [],
   "source": [
    "def get_gpx_frame(TEST_TRACK_PATH):\n",
    "    with open(TEST_TRACK_PATH) as file_pointer:\n",
    "        gpx_content = gpxpy.parse(file_pointer)\n",
    "\n",
    "    gpx_data = []\n",
    "    gpx_geometry = []\n",
    "    for point in gpx_content.tracks[0].segments[0].points:\n",
    "        gpx_geometry.append(Point(point.longitude, point.latitude))\n",
    "        gpx_data.append({\n",
    "            # clear tzinfo until it can be handled for the match query\n",
    "            \"time\": point.time.replace(tzinfo=None),\n",
    "            \"elev\": point.elevation,\n",
    "            \"longitude\": point.longitude,\n",
    "            \"latitude\": point.latitude\n",
    "        })\n",
    "\n",
    "    gpx_frame = gpd.GeoDataFrame(\n",
    "        gpx_data, geometry=gpx_geometry, crs=\"EPSG:4326\").to_crs(\"EPSG:3857\")\n",
    "    # search for splits in the trace bigger than 1s and label consecutive sections\n",
    "    gpx_frame[\"section\"] = (gpx_frame[\"time\"].diff() != pd.Timedelta(\"1 second\")).cumsum()\n",
    "    return gpx_frame"
   ]
  },
  {
   "cell_type": "code",
   "execution_count": null,
   "metadata": {
    "collapsed": false
   },
   "outputs": [],
   "source": [
    "import contextily as cx\n",
    "\n",
    "fig, ax = plt.subplots(1,1, figsize=(10,10))\n",
    "gpd.GeoDataFrame(geometry=[LineString(gpx_frame[\"geometry\"])]).plot(\n",
    "    ax=ax, color=\"green\", linewidth=3, alpha=0.5)\n",
    "cx.add_basemap(ax=ax, crs=\"EPSG:3857\", source=cx.providers.CartoDB.Positron)\n",
    "_ = ax.axis(\"off\")"
   ]
  },
  {
   "cell_type": "markdown",
   "metadata": {
    "collapsed": false
   },
   "source": [
    "---\n",
    "# Matching"
   ]
  },
  {
   "cell_type": "code",
   "execution_count": null,
   "metadata": {},
   "outputs": [],
   "source": [
    "#TRACK = \"\"\n",
    "#TEST_TRACK_PATH = Path(DATA_PATH, \"routes\",TRACK)\n",
    "gpx_frame = get_gpx_frame(TEST_TRACK_PATH)"
   ]
  },
  {
   "cell_type": "code",
   "execution_count": null,
   "metadata": {
    "collapsed": false
   },
   "outputs": [],
   "source": [
    "trace_df, edges_df = match_track(gpx_frame)"
   ]
  },
  {
   "cell_type": "code",
   "execution_count": null,
   "metadata": {
    "collapsed": false
   },
   "outputs": [],
   "source": [
    "pdf = process_match(gpx_frame, trace_df, edges_df)"
   ]
  },
  {
   "cell_type": "code",
   "execution_count": null,
   "metadata": {},
   "outputs": [],
   "source": [
    "# bulk analysis\n",
    "ROUTES = Path(DATA_PATH, \"routes\")\n",
    "routes_list = os.listdir(ROUTES)\n",
    "\n",
    "errorlist=[]\n",
    "\n",
    "for route in routes_list:\n",
    "    #try:\n",
    "        # get only files which are gpx files\n",
    "        if str(route).split(\".\")[-1]==\"gpx\":\n",
    "            #create path\n",
    "            TRACK = str(route)\n",
    "            TEST_TRACK_PATH = Path(DATA_PATH, \"routes\",TRACK)\n",
    "\n",
    "            # create gpx_frame\n",
    "            gpx_frame = get_gpx_frame(TEST_TRACK_PATH)\n",
    "\n",
    "            #match track\n",
    "            trace_df, edges_df = match_track(gpx_frame)\n",
    "\n",
    "            pdf = process_match(gpx_frame, trace_df, edges_df)\n",
    "    #except:\n",
    "    #    print('###################################################')\n",
    "    #    print(str(route)+\" caused an error\")\n",
    "    #    errorlist.append(route)\n",
    "    #    print('###################################################')"
   ]
  },
  {
   "cell_type": "code",
   "execution_count": null,
   "metadata": {},
   "outputs": [],
   "source": []
  }
 ],
 "metadata": {
  "kernelspec": {
   "display_name": "Python 3",
   "language": "python",
   "name": "python3"
  },
  "language_info": {
   "codemirror_mode": {
    "name": "ipython",
    "version": 3
   },
   "file_extension": ".py",
   "mimetype": "text/x-python",
   "name": "python",
   "nbconvert_exporter": "python",
   "pygments_lexer": "ipython3",
   "version": "3.11.1"
  },
  "vscode": {
   "interpreter": {
    "hash": "aee8b7b246df8f9039afb4144a1f6fd8d2ca17a180786b69acc140d282b71a49"
   }
  }
 },
 "nbformat": 4,
 "nbformat_minor": 0
}
