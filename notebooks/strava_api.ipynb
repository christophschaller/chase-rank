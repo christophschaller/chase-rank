{
 "cells": [
  {
   "cell_type": "code",
   "execution_count": 2,
   "metadata": {},
   "outputs": [
    {
     "name": "stdout",
     "output_type": "stream",
     "text": [
      "http://www.strava.com/oauth/authorize?client_id=98429&response_type=code&redirect_uri=http://localhost/exchange_token&approval_prompt=force&scope=profile:read_all,activity:read_all\n"
     ]
    }
   ],
   "source": [
    "import json\n",
    "\n",
    "with open('strava_key.json') as data_file:\n",
    "    data = json.load(data_file)\n",
    "\n",
    "\n",
    "client_id = data['client_id']\n",
    "client_secret = data['client_secret']\n",
    "access_token =  data['access_token']\n",
    "refresh_token =  data['refresh_token']\n",
    "\n",
    "auth_link = \"http://www.strava.com/oauth/authorize?client_id=\"+client_id+\"&response_type=code&redirect_uri=http://localhost/exchange_token&approval_prompt=force&scope=profile:read_all,activity:read_all\"\n",
    "print(auth_link)"
   ]
  },
  {
   "cell_type": "code",
   "execution_count": 3,
   "metadata": {},
   "outputs": [],
   "source": [
    "access_token = \"35d474a5e8ad16a2d078c2722c7c0619fcb1e6eb\""
   ]
  },
  {
   "cell_type": "code",
   "execution_count": 4,
   "metadata": {},
   "outputs": [
    {
     "name": "stdout",
     "output_type": "stream",
     "text": [
      "{'message': 'Bad Request', 'errors': [{'resource': 'AuthorizationCode', 'field': 'code', 'code': 'invalid'}]}\n"
     ]
    }
   ],
   "source": [
    "import requests\n",
    "import json# Make Strava auth API call with your \n",
    "# client_code, client_secret and code\n",
    "response = requests.post(\n",
    "                    url = 'https://www.strava.com/oauth/token',\n",
    "                    data = {\n",
    "                            'client_id': client_id,\n",
    "                            'client_secret': client_secret,\n",
    "                            'code': '35d474a5e8ad16a2d078c2722c7c0619fcb1e6eb',\n",
    "                            'grant_type': 'authorization_code'\n",
    "                            }\n",
    "                )#Save json response as a variable\n",
    "strava_tokens = response.json()# Save tokens to file\n",
    "with open('strava_tokens.json', 'w') as outfile:\n",
    "    json.dump(strava_tokens, outfile)# Open JSON file and print the file contents \n",
    "# to check it's worked properly\n",
    "with open('strava_tokens.json') as check:\n",
    "  data = json.load(check)\n",
    "print(data)"
   ]
  },
  {
   "cell_type": "markdown",
   "metadata": {},
   "source": [
    "# Activities CSV from athlete"
   ]
  },
  {
   "cell_type": "code",
   "execution_count": 6,
   "metadata": {},
   "outputs": [],
   "source": [
    "import pandas as pd\n",
    "import requests\n",
    "import json\n",
    "import time## Get the tokens from file to connect to Strava\n",
    "with open('strava_tokens.json') as json_file:\n",
    "    strava_tokens = json.load(json_file)## If access_token has expired then use the refresh_token to get the new access_token\n",
    "if strava_tokens['expires_at'] < time.time():#Make Strava auth API call with current refresh token\n",
    "    response = requests.post(\n",
    "                        url = 'https://www.strava.com/oauth/token',\n",
    "                        data = {\n",
    "                                'client_id': client_id,\n",
    "                                'client_secret': client_secret,\n",
    "                                'code': 'ffde4b99492188f4fd1f5b2756ff85c9b00261c1', #insert token from strava auth\n",
    "                                'grant_type': 'authorization_code'\n",
    "                                }\n",
    "                    )#Save response as json in new variable\n",
    "    new_strava_tokens = response.json()# Save new tokens to file\n",
    "    with open('strava_tokens.json', 'w') as outfile:\n",
    "        json.dump(new_strava_tokens, outfile)#Use new Strava tokens from now\n",
    "    strava_tokens = new_strava_tokens#Loop through all activities\n",
    "page = 1\n",
    "url = \"https://www.strava.com/api/v3/activities\"\n",
    "access_token = strava_tokens['access_token']## Create the dataframe ready for the API call to store your activity data\n",
    "activities = pd.DataFrame(\n",
    "    columns = [\n",
    "            \"id\",\n",
    "            \"name\",\n",
    "            \"start_date_local\",\n",
    "            \"type\",\n",
    "            \"distance\",\n",
    "            \"moving_time\",\n",
    "            \"elapsed_time\",\n",
    "            \"total_elevation_gain\",\n",
    "            \"end_latlng\",\n",
    "            \"external_id\"\n",
    "    ]\n",
    ")\n",
    "\n",
    "while True:\n",
    "    \n",
    "    # get page of activities from Strava\n",
    "    r = requests.get(url + '?access_token=' + access_token + '&per_page=200' + '&page=' + str(page))\n",
    "    r = r.json()# if no results then exit loop\n",
    "    if (not r):\n",
    "        break\n",
    "    \n",
    "    # otherwise add new data to dataframe\n",
    "    for x in range(len(r)):\n",
    "        activities.loc[x + (page-1)*200,'id'] = r[x]['id']\n",
    "        activities.loc[x + (page-1)*200,'name'] = r[x]['name']\n",
    "        activities.loc[x + (page-1)*200,'start_date_local'] = r[x]['start_date_local']\n",
    "        activities.loc[x + (page-1)*200,'type'] = r[x]['type']\n",
    "        activities.loc[x + (page-1)*200,'distance'] = r[x]['distance']\n",
    "        activities.loc[x + (page-1)*200,'moving_time'] = r[x]['moving_time']\n",
    "        activities.loc[x + (page-1)*200,'elapsed_time'] = r[x]['elapsed_time']\n",
    "        activities.loc[x + (page-1)*200,'total_elevation_gain'] = r[x]['total_elevation_gain']\n",
    "        activities.loc[x + (page-1)*200,'end_latlng'] = r[x]['end_latlng']\n",
    "        activities.loc[x + (page-1)*200,'external_id'] = r[x]['external_id']# increment page\n",
    "    page += 1\n",
    "    \n",
    "activities.to_csv(\"strava_activities_\"+client_id+\".csv\")"
   ]
  },
  {
   "cell_type": "markdown",
   "metadata": {},
   "source": [
    "# getting gpx data from strava"
   ]
  },
  {
   "cell_type": "code",
   "execution_count": 7,
   "metadata": {},
   "outputs": [],
   "source": [
    "import requests as r\n",
    "import pandas as pd\n",
    "import json\n",
    "import gpxpy.gpx\n",
    "from datetime import datetime, timedelta\n",
    "\n",
    "#This info is in activity summary downloaded from API\n",
    "id = 6403706752 #activity ID\n",
    "start_time = '2022-01-01T12:04:10Z' #activity start_time_local\n",
    "\n",
    "# Make API call\n",
    "url = f\"https://www.strava.com/api/v3/activities/{id}/streams\"\n",
    "header = {'Authorization': 'Bearer ' + access_token}\n",
    "latlong = r.get(url, headers=header, params={'keys':['latlng']}).json()[0]['data']\n",
    "time_list = r.get(url, headers=header, params={'keys':['time']}).json()[1]['data']\n",
    "altitude = r.get(url, headers=header, params={'keys':['altitude']}).json()[1]['data']\n",
    "\n",
    "# Create dataframe to store data 'neatly'\n",
    "data = pd.DataFrame([*latlong], columns=['lat','long'])\n",
    "data['altitude'] = altitude\n",
    "start = datetime.strptime(start_time, \"%Y-%m-%dT%H:%M:%SZ\")\n",
    "data['time'] = [(start+timedelta(seconds=t)) for t in time_list]\n",
    "\n",
    "gpx = gpxpy.gpx.GPX()\n",
    "# Create first track in our GPX:\n",
    "gpx_track = gpxpy.gpx.GPXTrack()\n",
    "gpx.tracks.append(gpx_track)\n",
    "# Create first segment in our GPX track:\n",
    "gpx_segment = gpxpy.gpx.GPXTrackSegment()\n",
    "gpx_track.segments.append(gpx_segment)\n",
    "# Create points:\n",
    "for idx in data.index:\n",
    "    gpx_segment.points.append(gpxpy.gpx.GPXTrackPoint(\n",
    "                data.loc[idx, 'lat'],\n",
    "                data.loc[idx, 'long'],\n",
    "                elevation=data.loc[idx, 'altitude'],\n",
    "                time=data.loc[idx, 'time']\n",
    "    ))\n",
    "# Write data to gpx file\n",
    "with open(str(id)+'_.gpx', 'w') as f:\n",
    "    f.write(gpx.to_xml())"
   ]
  },
  {
   "cell_type": "code",
   "execution_count": 23,
   "metadata": {},
   "outputs": [],
   "source": [
    "import requests as r\n",
    "import pandas as pd\n",
    "import json\n",
    "import gpxpy.gpx\n",
    "from datetime import datetime, timedelta\n",
    "\n",
    "def create_gpx(id, start_time, access_token):\n",
    "    # Make API call\n",
    "    url = f\"https://www.strava.com/api/v3/activities/{id}/streams\"\n",
    "    header = {'Authorization': 'Bearer ' + access_token}\n",
    "    latlong = r.get(url, headers=header, params={'keys':['latlng']}).json()[0]['data']\n",
    "    time_list = r.get(url, headers=header, params={'keys':['time']}).json()[1]['data']\n",
    "    altitude = r.get(url, headers=header, params={'keys':['altitude']}).json()[1]['data']\n",
    "\n",
    "    # Create dataframe to store data 'neatly'\n",
    "    data = pd.DataFrame([*latlong], columns=['lat','long'])\n",
    "    data['altitude'] = altitude\n",
    "    start = datetime.strptime(start_time, \"%Y-%m-%dT%H:%M:%SZ\")\n",
    "    data['time'] = [(start+timedelta(seconds=t)) for t in time_list]\n",
    "\n",
    "    gpx = gpxpy.gpx.GPX()\n",
    "    # Create first track in our GPX:\n",
    "    gpx_track = gpxpy.gpx.GPXTrack()\n",
    "    gpx.tracks.append(gpx_track)\n",
    "    # Create first segment in our GPX track:\n",
    "    gpx_segment = gpxpy.gpx.GPXTrackSegment()\n",
    "    gpx_track.segments.append(gpx_segment)\n",
    "    # Create points:\n",
    "    for idx in data.index:\n",
    "        gpx_segment.points.append(gpxpy.gpx.GPXTrackPoint(\n",
    "                    data.loc[idx, 'lat'],\n",
    "                    data.loc[idx, 'long'],\n",
    "                    elevation=data.loc[idx, 'altitude'],\n",
    "                    time=data.loc[idx, 'time']\n",
    "        ))\n",
    "    # Write data to gpx file\n",
    "    with open(\"db_rides/ride_\"+str(start_time)+\"_\"+str(id)+'.gpx', 'w') as f:\n",
    "        f.write(gpx.to_xml())"
   ]
  },
  {
   "cell_type": "code",
   "execution_count": 24,
   "metadata": {},
   "outputs": [],
   "source": [
    "#access_token = \"30d9f3bbcc4f1d74acb89c83ececa0a7fc0dd3a2\"\n",
    "i = 0\n",
    "id = rides_2022[i][\"id\"]\n",
    "start_time= rides_2022[i][\"start_date_local\"]\n",
    "\n",
    "create_gpx(id, start_time,access_token)"
   ]
  },
  {
   "cell_type": "code",
   "execution_count": 11,
   "metadata": {},
   "outputs": [],
   "source": [
    "from csv import DictReader\n",
    "# open file in read mode\n",
    "with open(\"strava_activities.csv\", 'r') as f:\n",
    "\tdict_reader = DictReader(f)\n",
    "\tstrava_dict = list(dict_reader)\n",
    "\n",
    "\t#print(list_of_dict)\n",
    "\n",
    "# gather all real world rides from 2022 in one list\n",
    "rides_2022 = []\n",
    "\n",
    "for i in range(0,len(strava_dict)):\n",
    "    if str(strava_dict[i]['type'])=='Ride' and str(strava_dict[i]['start_date_local']).split(\"-\")[0]==\"2022\":\n",
    "        rides_2022.append(strava_dict[i])\n",
    "\n",
    "#example\n",
    "rides_2022[0][\"id\"]\n"
   ]
  },
  {
   "cell_type": "code",
   "execution_count": 28,
   "metadata": {},
   "outputs": [
    {
     "ename": "SyntaxError",
     "evalue": "incomplete input (838052677.py, line 12)",
     "output_type": "error",
     "traceback": [
      "\u001b[0;36m  Cell \u001b[0;32mIn[28], line 12\u001b[0;36m\u001b[0m\n\u001b[0;31m    for i in range(0,len(rides_2022)):\u001b[0m\n\u001b[0m                                      ^\u001b[0m\n\u001b[0;31mSyntaxError\u001b[0m\u001b[0;31m:\u001b[0m incomplete input\n"
     ]
    }
   ],
   "source": [
    "import time\n",
    "\n",
    "for i in range(0,len(rides_2022)):\n",
    "    id = rides_2022[i][\"id\"]\n",
    "    start_time= rides_2022[i][\"start_date_local\"]\n",
    "\n",
    "    create_gpx(id, start_time,access_token)\n",
    "    print(str(ride[\"start_date_local\"]))\n",
    "    time.sleep(80)\n"
   ]
  },
  {
   "cell_type": "code",
   "execution_count": null,
   "metadata": {},
   "outputs": [],
   "source": [
    "\n",
    "\n"
   ]
  },
  {
   "cell_type": "code",
   "execution_count": null,
   "metadata": {},
   "outputs": [],
   "source": []
  },
  {
   "cell_type": "code",
   "execution_count": null,
   "metadata": {},
   "outputs": [],
   "source": []
  }
 ],
 "metadata": {
  "kernelspec": {
   "display_name": "Python 3",
   "language": "python",
   "name": "python3"
  },
  "language_info": {
   "codemirror_mode": {
    "name": "ipython",
    "version": 3
   },
   "file_extension": ".py",
   "mimetype": "text/x-python",
   "name": "python",
   "nbconvert_exporter": "python",
   "pygments_lexer": "ipython3",
   "version": "3.11.1 (v3.11.1:a7a450f84a, Dec  6 2022, 15:24:06) [Clang 13.0.0 (clang-1300.0.29.30)]"
  },
  "orig_nbformat": 4,
  "vscode": {
   "interpreter": {
    "hash": "aee8b7b246df8f9039afb4144a1f6fd8d2ca17a180786b69acc140d282b71a49"
   }
  }
 },
 "nbformat": 4,
 "nbformat_minor": 2
}
