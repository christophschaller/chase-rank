{
 "cells": [
  {
   "cell_type": "code",
   "execution_count": null,
   "metadata": {
    "collapsed": true
   },
   "outputs": [],
   "source": [
    "surfaces = collections.defaultdict(lambda: 0.)# Distance(kilometers=0))\n",
    "for index, surface_group in points_df.groupby(\"surface_section\"):\n",
    "    surface = surface_group[\"surface\"].values[0]\n",
    "    # distance = group[\"distance\"].dropna(axis=0).sum()\n",
    "    distance = surface_group[\"distance\"].sum()\n",
    "    surfaces[surface] += distance\n",
    "\n",
    "# remove distances travelled during pauses\n",
    "for index, section_group in points_df.groupby(\"section\"):\n",
    "    surface = section_group[\"surface\"].values[-1]\n",
    "    surfaces[surface] -= section_group[\"distance\"].values[-1]\n",
    "\n",
    "dict(surfaces)"
   ]
  },
  {
   "cell_type": "code",
   "execution_count": null,
   "outputs": [],
   "source": [
    "map_ = gpx_frame[[\"geometry\", \"section\"]][\n",
    "    trace_df[\"geometry\"].isnull()\n",
    "].explore(name=\"gpx\", color=\"green\", style_kwds={\"opacity\": 0.5})\n",
    "map_ = gpx_frame[[\"geometry\", \"section\"]][\n",
    "    trace_df[\"edge_index\"].isnull()\n",
    "].explore(m=map_, name=\"gpx\", color=\"red\", style_kwds={\"opacity\": 0.5, \"fill\": False})\n",
    "\n",
    "map_"
   ],
   "metadata": {
    "collapsed": false
   }
  }
 ],
 "metadata": {
  "kernelspec": {
   "display_name": "Python 3",
   "language": "python",
   "name": "python3"
  },
  "language_info": {
   "codemirror_mode": {
    "name": "ipython",
    "version": 2
   },
   "file_extension": ".py",
   "mimetype": "text/x-python",
   "name": "python",
   "nbconvert_exporter": "python",
   "pygments_lexer": "ipython2",
   "version": "2.7.6"
  }
 },
 "nbformat": 4,
 "nbformat_minor": 0
}
