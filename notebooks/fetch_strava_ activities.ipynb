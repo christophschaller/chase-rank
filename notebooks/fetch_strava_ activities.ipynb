{
 "cells": [
  {
   "cell_type": "code",
   "execution_count": 1,
   "outputs": [],
   "source": [
    "# facilitate imports from project root\n",
    "import sys\n",
    "\n",
    "sys.path.append(\"..\")"
   ],
   "metadata": {
    "collapsed": false
   }
  },
  {
   "cell_type": "code",
   "execution_count": 2,
   "outputs": [],
   "source": [
    "import os\n",
    "from datetime import datetime\n",
    "from pathlib import Path\n",
    "\n",
    "from dotenv import load_dotenv\n",
    "from tqdm import tqdm\n",
    "\n",
    "from chase_rank.service_handlers import StravaHandler\n",
    "from chase_rank.data_handlers import ActivityHandler, UserHandler, TrackHandler"
   ],
   "metadata": {
    "collapsed": false
   }
  },
  {
   "cell_type": "code",
   "execution_count": 3,
   "outputs": [],
   "source": [
    "load_dotenv(\"../.env\")\n",
    "\n",
    "USER_PATH = Path(os.getenv(\"USER_JSON_PATH\", \"../data/users.json\"))\n",
    "ACTIVITY_PATH = Path(os.getenv(\"ACTIVITY_PATH\", \"../data/activities.parquet\"))\n",
    "TRACK_PATH = Path(os.getenv(\"TRACK_PATH\", \"../data/tracks\"))\n",
    "PROCESSED_PATH = Path(os.getenv(\"PROCESSED_PATH\", \"../data/processed\"))\n",
    "\n",
    "STRAVA_CLIENT_ID = os.getenv(\"STRAVA_CLIENT_ID\")\n",
    "STRAVA_CLIENT_SECRET = os.getenv(\"STRAVA_CLIENT_SECRET\")"
   ],
   "metadata": {
    "collapsed": false
   }
  },
  {
   "cell_type": "markdown",
   "source": [
    "# Initialize Handlers"
   ],
   "metadata": {
    "collapsed": false
   }
  },
  {
   "cell_type": "code",
   "execution_count": 4,
   "outputs": [],
   "source": [
    "user_handler = UserHandler(USER_PATH)\n",
    "activity_handler = ActivityHandler(ACTIVITY_PATH)\n",
    "track_handler = TrackHandler(TRACK_PATH)\n",
    "strava = StravaHandler(\n",
    "    client_id=STRAVA_CLIENT_ID,\n",
    "    client_secret=STRAVA_CLIENT_SECRET,\n",
    "    user_handler=user_handler,\n",
    "    activity_handler=activity_handler,\n",
    "    track_handler=track_handler\n",
    ")"
   ],
   "metadata": {
    "collapsed": false
   }
  },
  {
   "cell_type": "markdown",
   "source": [
    "### Get all activities between Jan. 2015 and Feb. 2023"
   ],
   "metadata": {
    "collapsed": false
   }
  },
  {
   "cell_type": "code",
   "execution_count": 11,
   "outputs": [],
   "source": [
    "after = datetime(year=2015, month=12, day=31)\n",
    "before = datetime(year=2023, month=2, day=1)\n",
    "\n",
    "chris_activities = strava.activities(\n",
    "    user_id=\"49971345\",\n",
    "    before=before,\n",
    "    after=after\n",
    ")\n",
    "david_activities = strava.activities(\n",
    "    user_id=\"59511327\",\n",
    "    before=before,\n",
    "    after=after\n",
    ")"
   ],
   "metadata": {
    "collapsed": false
   }
  },
  {
   "cell_type": "markdown",
   "source": [
    "### Load all tracks we haven't stored yet\n",
    "This will attempt to reload activities without valid geometry"
   ],
   "metadata": {
    "collapsed": false
   }
  },
  {
   "cell_type": "code",
   "execution_count": null,
   "outputs": [
    {
     "name": "stderr",
     "output_type": "stream",
     "text": [
      "  0%|          | 0/361 [00:00<?, ?it/s]"
     ]
    },
    {
     "name": "stdout",
     "output_type": "stream",
     "text": [
      "No Rate Limit In Headers\n",
      "No Usage In Headers\n",
      "No Rate Limit In Headers\n",
      "No Usage In Headers\n"
     ]
    },
    {
     "name": "stderr",
     "output_type": "stream",
     "text": [
      "  0%|          | 1/361 [00:00<03:50,  1.56it/s]"
     ]
    },
    {
     "name": "stdout",
     "output_type": "stream",
     "text": [
      "Can't Build Track\n",
      "latlng_stream: False\n",
      "alt_stream: False\n",
      "time_stream: True\n"
     ]
    },
    {
     "name": "stderr",
     "output_type": "stream",
     "text": [
      "  1%|          | 2/361 [00:00<02:48,  2.13it/s]"
     ]
    },
    {
     "name": "stdout",
     "output_type": "stream",
     "text": [
      "Can't Build Track\n",
      "latlng_stream: False\n",
      "alt_stream: False\n",
      "time_stream: True\n"
     ]
    },
    {
     "name": "stderr",
     "output_type": "stream",
     "text": [
      "  1%|          | 3/361 [00:01<02:09,  2.78it/s]"
     ]
    },
    {
     "name": "stdout",
     "output_type": "stream",
     "text": [
      "Can't Build Track\n",
      "latlng_stream: False\n",
      "alt_stream: False\n",
      "time_stream: True\n"
     ]
    },
    {
     "name": "stderr",
     "output_type": "stream",
     "text": [
      "  1%|          | 4/361 [00:01<02:31,  2.36it/s]"
     ]
    },
    {
     "name": "stdout",
     "output_type": "stream",
     "text": [
      "Can't Build Track\n",
      "latlng_stream: False\n",
      "alt_stream: False\n",
      "time_stream: True\n"
     ]
    },
    {
     "name": "stderr",
     "output_type": "stream",
     "text": [
      "  1%|▏         | 5/361 [00:02<03:02,  1.95it/s]"
     ]
    },
    {
     "name": "stdout",
     "output_type": "stream",
     "text": [
      "Can't Build Track\n",
      "latlng_stream: False\n",
      "alt_stream: True\n",
      "time_stream: True\n"
     ]
    },
    {
     "name": "stderr",
     "output_type": "stream",
     "text": [
      "  2%|▏         | 6/361 [00:02<02:43,  2.17it/s]"
     ]
    },
    {
     "name": "stdout",
     "output_type": "stream",
     "text": [
      "Can't Build Track\n",
      "latlng_stream: False\n",
      "alt_stream: False\n",
      "time_stream: True\n"
     ]
    },
    {
     "name": "stderr",
     "output_type": "stream",
     "text": [
      "  2%|▏         | 7/361 [00:03<02:37,  2.25it/s]"
     ]
    },
    {
     "name": "stdout",
     "output_type": "stream",
     "text": [
      "Can't Build Track\n",
      "latlng_stream: False\n",
      "alt_stream: False\n",
      "time_stream: True\n"
     ]
    },
    {
     "name": "stderr",
     "output_type": "stream",
     "text": [
      "  2%|▏         | 8/361 [00:03<02:13,  2.65it/s]"
     ]
    },
    {
     "name": "stdout",
     "output_type": "stream",
     "text": [
      "Can't Build Track\n",
      "latlng_stream: False\n",
      "alt_stream: False\n",
      "time_stream: True\n",
      "No Rate Limit In Headers\n",
      "No Usage In Headers\n",
      "No Rate Limit In Headers\n",
      "No Usage In Headers\n"
     ]
    },
    {
     "name": "stderr",
     "output_type": "stream",
     "text": [
      "  2%|▏         | 9/361 [00:04<02:51,  2.06it/s]"
     ]
    },
    {
     "name": "stdout",
     "output_type": "stream",
     "text": [
      "Can't Build Track\n",
      "latlng_stream: False\n",
      "alt_stream: False\n",
      "time_stream: True\n"
     ]
    },
    {
     "name": "stderr",
     "output_type": "stream",
     "text": [
      "  3%|▎         | 11/361 [00:04<02:11,  2.65it/s]"
     ]
    },
    {
     "name": "stdout",
     "output_type": "stream",
     "text": [
      "Can't Build Track\n",
      "latlng_stream: False\n",
      "alt_stream: False\n",
      "time_stream: True\n",
      "Can't Build Track\n",
      "latlng_stream: False\n",
      "alt_stream: False\n",
      "time_stream: True\n"
     ]
    },
    {
     "name": "stderr",
     "output_type": "stream",
     "text": [
      "  3%|▎         | 12/361 [00:05<02:15,  2.58it/s]"
     ]
    },
    {
     "name": "stdout",
     "output_type": "stream",
     "text": [
      "Can't Build Track\n",
      "latlng_stream: False\n",
      "alt_stream: False\n",
      "time_stream: True\n"
     ]
    },
    {
     "name": "stderr",
     "output_type": "stream",
     "text": [
      "  4%|▎         | 13/361 [00:05<02:17,  2.53it/s]"
     ]
    },
    {
     "name": "stdout",
     "output_type": "stream",
     "text": [
      "Can't Build Track\n",
      "latlng_stream: False\n",
      "alt_stream: False\n",
      "time_stream: True\n"
     ]
    },
    {
     "name": "stderr",
     "output_type": "stream",
     "text": [
      "  4%|▍         | 14/361 [00:05<01:58,  2.94it/s]"
     ]
    },
    {
     "name": "stdout",
     "output_type": "stream",
     "text": [
      "Can't Build Track\n",
      "latlng_stream: False\n",
      "alt_stream: False\n",
      "time_stream: True\n"
     ]
    },
    {
     "name": "stderr",
     "output_type": "stream",
     "text": [
      " 24%|██▎       | 85/361 [02:13<03:15,  1.41it/s]"
     ]
    },
    {
     "name": "stdout",
     "output_type": "stream",
     "text": [
      "15min Rate Limit Exceeded\n"
     ]
    },
    {
     "name": "stderr",
     "output_type": "stream",
     "text": [
      " 51%|█████     | 185/361 [05:34<03:28,  1.19s/it] "
     ]
    },
    {
     "name": "stdout",
     "output_type": "stream",
     "text": [
      "15min Rate Limit Exceeded\n"
     ]
    }
   ],
   "source": [
    "for user_id, activity_id in tqdm(\n",
    "        strava.activity_handler.activities[~strava.activity_handler.activities[\"strava_id\"]\n",
    "        .isin(strava.track_handler.tracklist)][[\"user\", \"strava_id\"]].values.tolist()):\n",
    "    strava.activity_track(str(user_id), activity_id)"
   ],
   "metadata": {
    "collapsed": false,
    "pycharm": {
     "is_executing": true
    }
   }
  }
 ],
 "metadata": {
  "kernelspec": {
   "display_name": "Python 3",
   "language": "python",
   "name": "python3"
  },
  "language_info": {
   "codemirror_mode": {
    "name": "ipython",
    "version": 3
   },
   "file_extension": ".py",
   "mimetype": "text/x-python",
   "name": "python",
   "nbconvert_exporter": "python",
   "pygments_lexer": "ipython3",
   "version": "3.11.1 (v3.11.1:a7a450f84a, Dec  6 2022, 15:24:06) [Clang 13.0.0 (clang-1300.0.29.30)]"
  },
  "orig_nbformat": 4,
  "vscode": {
   "interpreter": {
    "hash": "aee8b7b246df8f9039afb4144a1f6fd8d2ca17a180786b69acc140d282b71a49"
   }
  }
 },
 "nbformat": 4,
 "nbformat_minor": 2
}
