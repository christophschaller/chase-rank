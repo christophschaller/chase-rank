{
 "cells": [
  {
   "cell_type": "markdown",
   "metadata": {},
   "source": [
    "# Datenimport"
   ]
  },
  {
   "cell_type": "markdown",
   "metadata": {},
   "source": [
    "Es wird bisher mehr importiert als gebraucht wird"
   ]
  },
  {
   "cell_type": "code",
   "execution_count": null,
   "metadata": {},
   "outputs": [],
   "source": [
    "import pandas as pd\n",
    "import json\n",
    "\n",
    "filepath = \"/Users/david/dev_projects/chase-rank/data/processed/\"\n",
    "track = \"2022-10-23T12-20-03_test_track/\""
   ]
  },
  {
   "cell_type": "code",
   "execution_count": null,
   "metadata": {},
   "outputs": [],
   "source": [
    "points_df = pd.read_csv(filepath+track+\"points.csv\")\n",
    "section_main_dataframe = pd.read_csv(filepath+track+\"sections.csv\")\n",
    "track_info = json.load(open(filepath+track+\"track_info.json\"))"
   ]
  },
  {
   "cell_type": "code",
   "execution_count": null,
   "metadata": {},
   "outputs": [],
   "source": [
    "import pandas as pd\n",
    "import json\n",
    "from pathlib import Path\n",
    "\n",
    "Trackname = \"2022-10-23T12-20-03_test_track\"\n",
    "Trackdate = \"\"\"P\"\"\"\n",
    "ProcessedTrackName = Trackdate+\"_\"+Trackname\n",
    "\n",
    "\n",
    "DATA_PATH = Path(\"../data\")\n",
    "#TRACK_PATH = Path(DATA_PATH, \"routes\",Trackname,\".gpx\")\n",
    "def get_ana_track_path(Trackname):\n",
    "    ANA_TRACK_PATH = Path(DATA_PATH, \"processed\",Trackname)\n",
    "    return ANA_TRACK_PATH"
   ]
  },
  {
   "cell_type": "code",
   "execution_count": null,
   "metadata": {},
   "outputs": [],
   "source": [
    "def get_points_df(ANA_TRACK_PATH):\n",
    "    points_df = pd.read_csv(Path(ANA_TRACK_PATH,\"points.csv\"))\n",
    "    return points_df\n",
    "\n",
    "def get_section_df(ANA_TRACK_PATH):\n",
    "    section_main_dataframe = pd.read_csv(Path(ANA_TRACK_PATH,\"sections.csv\"))\n",
    "    return section_df\n",
    "\n",
    "def get_track_info(ANA_TRACK_PATH):\n",
    "    track_info = json.load(open(Path(ANA_TRACK_PATH,\"track_info.json\")))\n",
    "    return track_info"
   ]
  },
  {
   "cell_type": "markdown",
   "metadata": {},
   "source": [
    "# Pandas im Datenbankformat"
   ]
  },
  {
   "cell_type": "code",
   "execution_count": null,
   "metadata": {},
   "outputs": [],
   "source": [
    "db_strava_activities = \"/Users/david/dev_projects/strava_statistics/strava_activities.csv\"\n",
    "\n",
    "db_strava = pd.read_csv(db_strava_activities)\n",
    "db_strava = db_strava.drop(\"Unnamed: 0\", axis=1)"
   ]
  },
  {
   "cell_type": "code",
   "execution_count": null,
   "metadata": {},
   "outputs": [],
   "source": [
    "strava_list=[]\n",
    "user = \"David\"\n",
    "\n",
    "for i in range(0,len(db_strava)):\n",
    "    strava_datapoint = {\n",
    "        \"strava_id\": db_strava[\"id\"][i],#\n",
    "        \"strava_name\": db_strava[\"name\"][i],#\n",
    "        \"user\": user,\n",
    "        \"distance\": db_strava[\"distance\"][i],#\n",
    "        \"moving_time\": db_strava[\"moving_time\"][i],#\n",
    "        \"elapsed_time\": db_strava[\"elapsed_time\"][i],#\n",
    "        \"total_elevation_gain\": db_strava[\"total_elevation_gain\"][i],#\n",
    "        \"sport_type\": db_strava[\"type\"][i],#\n",
    "        \"start_date\": db_strava[\"start_date_local\"][i],#\n",
    "        \"timezone\": None,\n",
    "        \"start_lat\": None,\n",
    "        \"start_lng\": None,\n",
    "        \"end_lat\": None,\n",
    "        \"end_lng\": None,\n",
    "        \"average_speed\": None,\n",
    "        \"max_speed\": None,\n",
    "        \"elev_high\": None,\n",
    "        \"elev_low\": None,\n",
    "        \"external_id\": db_strava[\"external_id\"][i],#\n",
    "\n",
    "        'surface_paved_smooth': None,\n",
    "        'surface_compacted': None,\n",
    "        'surface_path': None,\n",
    "        'surface_paved': None,\n",
    "        'surface_paved_rough': None,\n",
    "        'surface_gravel': None,\n",
    "        'surface_dirt': None,\n",
    "        'surface_null': None,}\n",
    "\n",
    "    strava_list.append(strava_datapoint)"
   ]
  },
  {
   "cell_type": "code",
   "execution_count": null,
   "metadata": {},
   "outputs": [],
   "source": [
    "main_dataframe = pd.DataFrame(strava_list)"
   ]
  },
  {
   "cell_type": "markdown",
   "metadata": {},
   "source": [
    "# Monatsauswertung"
   ]
  },
  {
   "cell_type": "markdown",
   "metadata": {},
   "source": [
    "Statistiken für die Honigmann Challenge auf Monatsebene"
   ]
  },
  {
   "cell_type": "code",
   "execution_count": null,
   "metadata": {},
   "outputs": [],
   "source": [
    "df = main_dataframe\n",
    "\n",
    "# convert the datetime column to datetime type\n",
    "main_dataframe['start_date'] = pd.to_datetime(df['start_date'])\n",
    "\n",
    "# extract the month from the datetime column\n",
    "df['year'] = df['start_date'].dt.year\n",
    "df['month'] = df['start_date'].dt.month\n",
    "\n",
    "#TODO: Userebene fehlt noch\n",
    "user = main_dataframe[\"user\"].unique()[0]\n",
    "\n",
    "\n",
    "year_stat = []\n",
    "for year in range(2020,2023):\n",
    "    year_df = df[df['year'] == year]\n",
    "\n",
    "    for month in range(1,12):\n",
    "        month_dataframe = year_df[year_df['month'] == month]\n",
    "\n",
    "        month_stat = {\n",
    "            \"user\":user,\n",
    "            \"year\":year,\n",
    "            \"month\":month,\n",
    "            \"activities\":len(month_dataframe),\n",
    "            \"time_spent\":month_dataframe[\"moving_time\"].sum(),\n",
    "            \"distance\":month_dataframe[\"distance\"].sum(),\n",
    "            \"total_elevation_gain\":month_dataframe[\"total_elevation_gain\"].sum(),}\n",
    "\n",
    "\n",
    "        year_stat.append(month_stat)\n",
    "        del month_dataframe\n"
   ]
  },
  {
   "cell_type": "code",
   "execution_count": null,
   "metadata": {},
   "outputs": [],
   "source": [
    "year_stat"
   ]
  },
  {
   "cell_type": "code",
   "execution_count": null,
   "metadata": {},
   "outputs": [],
   "source": []
  }
 ],
 "metadata": {
  "kernelspec": {
   "display_name": "Python 3",
   "language": "python",
   "name": "python3"
  },
  "language_info": {
   "codemirror_mode": {
    "name": "ipython",
    "version": 3
   },
   "file_extension": ".py",
   "mimetype": "text/x-python",
   "name": "python",
   "nbconvert_exporter": "python",
   "pygments_lexer": "ipython3",
   "version": "3.11.1"
  },
  "orig_nbformat": 4,
  "vscode": {
   "interpreter": {
    "hash": "aee8b7b246df8f9039afb4144a1f6fd8d2ca17a180786b69acc140d282b71a49"
   }
  }
 },
 "nbformat": 4,
 "nbformat_minor": 2
}
